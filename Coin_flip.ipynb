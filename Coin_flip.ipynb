{
  "nbformat": 4,
  "nbformat_minor": 0,
  "metadata": {
    "kernelspec": {
      "display_name": "Python 3",
      "language": "python",
      "name": "python3"
    },
    "language_info": {
      "codemirror_mode": {
        "name": "ipython",
        "version": 3
      },
      "file_extension": ".py",
      "mimetype": "text/x-python",
      "name": "python",
      "nbconvert_exporter": "python",
      "pygments_lexer": "ipython3",
      "version": "3.7.1"
    },
    "colab": {
      "name": "Coin_flip.ipynb",
      "provenance": [],
      "collapsed_sections": []
    }
  },
  "cells": [
    {
      "cell_type": "code",
      "metadata": {
        "id": "feXRXmIKUpGo",
        "colab_type": "code",
        "colab": {}
      },
      "source": [
        "import numpy as np\n",
        "import matplotlib.pyplot as plt\n",
        "import seaborn as sns"
      ],
      "execution_count": 0,
      "outputs": []
    },
    {
      "cell_type": "code",
      "metadata": {
        "id": "IbEES5RUipOK",
        "colab_type": "code",
        "colab": {}
      },
      "source": [
        "# outer loop is Monte Carlo sims and inner loop is games played\n",
        "def sim(bet,games,game,simulations=10000,threshold=40):\n",
        "    sim_results = []\n",
        "    for sim in range(simulations):\n",
        "        result=[]\n",
        "        for g in range(games):\n",
        "            number = int(np.random.uniform()*100)  # get a random number to see who wins\n",
        "            if number >= threshold:\n",
        "                result.append(bet)\n",
        "            else:\n",
        "                result.append(-bet)\n",
        "        sim_results.append(sum(result))          # sim_results stores results for Game\n",
        "    print('Game',game,' Mean: ', round(np.mean(sim_results), 2))\n",
        "    print('Game',game,' Prob Positive: ', round(sum([1 for i in sim_results if i>0])/simulations, 2))\n",
        "    print('\\n')\n",
        "    return sim_results"
      ],
      "execution_count": 0,
      "outputs": []
    },
    {
      "cell_type": "code",
      "metadata": {
        "id": "xTZumrIZiqY0",
        "colab_type": "code",
        "outputId": "19a6d10f-44d6-49c2-81cc-830bf3dcdc7c",
        "colab": {
          "base_uri": "https://localhost:8080/",
          "height": 237
        }
      },
      "source": [
        "sim_results_1=sim(1,100,1)    \n",
        "sim_results_2=sim(10,10,2)\n",
        "sim_results_3=sim(100,1,3)"
      ],
      "execution_count": 3,
      "outputs": [
        {
          "output_type": "stream",
          "text": [
            "Game 1  Mean:  19.9\n",
            "Game 1  Prob Positive:  0.97\n",
            "\n",
            "\n",
            "Game 2  Mean:  19.42\n",
            "Game 2  Prob Positive:  0.62\n",
            "\n",
            "\n",
            "Game 3  Mean:  19.66\n",
            "Game 3  Prob Positive:  0.6\n",
            "\n",
            "\n"
          ],
          "name": "stdout"
        }
      ]
    },
    {
      "cell_type": "code",
      "metadata": {
        "id": "NlHoFZxMUpG1",
        "colab_type": "code",
        "outputId": "1ec3f56e-baca-4f47-fe6f-a59b3c310a66",
        "colab": {
          "base_uri": "https://localhost:8080/",
          "height": 441
        }
      },
      "source": [
        "# Histogram that shows the distribution of the Monte Carlo Results for 2 spending levels\n",
        "fig, ax = plt.subplots(figsize=(8,6))\n",
        "sns.distplot(sim_results_1, kde=False, bins=60, label='Play 100 Times')\n",
        "sns.distplot(sim_results_2, kde=False, bins=60, label='Play 10 Times')\n",
        "sns.distplot(sim_results_3, kde=False, bins=60, label='Play 1 Time', color='pink')\n",
        "\n",
        "ax.set_xlabel('Money Won by You (The Player)', fontsize=16)\n",
        "ax.set_ylabel('Frequency',fontsize=16)\n",
        "plt.legend()\n",
        "plt.tight_layout()\n",
        "\n",
        "plt.savefig(fname='game_hist', dpi=150)\n",
        "plt.show()\n"
      ],
      "execution_count": 4,
      "outputs": [
        {
          "output_type": "display_data",
          "data": {
            "image/png": "[encoded data removed]",
            "text/plain": [
              "<Figure size 576x432 with 1 Axes>"
            ]
          },
          "metadata": {
            "tags": []
          }
        }
      ]
    }
  ]
}